{
  "metadata": {
    "kernelspec": {
      "language": "python",
      "display_name": "Python 3",
      "name": "python3"
    },
    "language_info": {
      "name": "python",
      "version": "3.10.14",
      "mimetype": "text/x-python",
      "codemirror_mode": {
        "name": "ipython",
        "version": 3
      },
      "pygments_lexer": "ipython3",
      "nbconvert_exporter": "python",
      "file_extension": ".py"
    },
    "kaggle": {
      "accelerator": "none",
      "dataSources": [
        {
          "sourceId": 40943,
          "sourceType": "datasetVersion",
          "datasetId": 31029
        },
        {
          "sourceId": 9758098,
          "sourceType": "datasetVersion",
          "datasetId": 5975149
        }
      ],
      "dockerImageVersionId": 30786,
      "isInternetEnabled": true,
      "language": "python",
      "sourceType": "notebook",
      "isGpuEnabled": false
    },
    "colab": {
      "provenance": [],
      "include_colab_link": true
    }
  },
  "nbformat_minor": 0,
  "nbformat": 4,
  "cells": [
    {
      "cell_type": "markdown",
      "metadata": {
        "id": "view-in-github",
        "colab_type": "text"
      },
      "source": [
        "<a href=\"https://colab.research.google.com/github/MatheusMGirardi/py-spark-olympic-athlete-data/blob/main/PySpark_big_data.ipynb\" target=\"_parent\"><img src=\"https://colab.research.google.com/assets/colab-badge.svg\" alt=\"Open In Colab\"/></a>"
      ]
    },
    {
      "cell_type": "code",
      "source": [
        "import numpy as np # linear algebra\n",
        "import pandas as pd # data processing, CSV file I/O (e.g. pd.read_csv)\n",
        "import shutil\n",
        "import os"
      ],
      "metadata": {
        "_uuid": "8f2839f25d086af736a60e9eeb907d3b93b6e0e5",
        "_cell_guid": "b1076dfc-b9ad-4769-8c92-a6c4dae69d19",
        "execution": {
          "iopub.status.busy": "2024-10-29T23:00:22.464879Z",
          "iopub.execute_input": "2024-10-29T23:00:22.465464Z",
          "iopub.status.idle": "2024-10-29T23:00:22.473856Z",
          "shell.execute_reply.started": "2024-10-29T23:00:22.465412Z",
          "shell.execute_reply": "2024-10-29T23:00:22.471603Z"
        },
        "trusted": true,
        "id": "mxeGJVh4xxVq"
      },
      "execution_count": 1,
      "outputs": []
    },
    {
      "cell_type": "code",
      "source": [
        "!pip install -q findspark\n",
        "!pip install pyspark"
      ],
      "metadata": {
        "execution": {
          "iopub.status.busy": "2024-10-29T22:49:24.081919Z",
          "iopub.execute_input": "2024-10-29T22:49:24.082796Z"
        },
        "trusted": true,
        "id": "135MjKI6xxVr",
        "outputId": "79f60feb-998f-4150-a2a4-0aeedbf7c92b",
        "colab": {
          "base_uri": "https://localhost:8080/"
        }
      },
      "execution_count": 2,
      "outputs": [
        {
          "output_type": "stream",
          "name": "stdout",
          "text": [
            "Requirement already satisfied: pyspark in /usr/local/lib/python3.10/dist-packages (3.5.3)\n",
            "Requirement already satisfied: py4j==0.10.9.7 in /usr/local/lib/python3.10/dist-packages (from pyspark) (0.10.9.7)\n"
          ]
        }
      ]
    },
    {
      "cell_type": "code",
      "source": [
        "import findspark\n",
        "findspark.init()\n",
        "\n",
        "from pyspark.sql import SparkSession\n",
        "\n",
        "if __name__ == \"__main__\":\n",
        "    spark = SparkSession.builder.appName(\"TDE4\").master(\"local\").getOrCreate()"
      ],
      "metadata": {
        "execution": {
          "iopub.status.busy": "2024-10-29T23:19:03.507612Z",
          "iopub.execute_input": "2024-10-29T23:19:03.508281Z",
          "iopub.status.idle": "2024-10-29T23:19:03.522878Z",
          "shell.execute_reply.started": "2024-10-29T23:19:03.508227Z",
          "shell.execute_reply": "2024-10-29T23:19:03.521051Z"
        },
        "trusted": true,
        "id": "fySG2Cu3xxVu"
      },
      "execution_count": 3,
      "outputs": []
    },
    {
      "cell_type": "markdown",
      "source": [
        "#### 1. CSV loading"
      ],
      "metadata": {
        "id": "DZ5-ady3xxVv"
      }
    },
    {
      "cell_type": "code",
      "source": [
        "df = spark.read.csv(\"/content/athletes.csv\")\n",
        "rdd = df.rdd"
      ],
      "metadata": {
        "execution": {
          "iopub.status.busy": "2024-10-29T23:19:56.269038Z",
          "iopub.execute_input": "2024-10-29T23:19:56.269796Z",
          "iopub.status.idle": "2024-10-29T23:19:56.738953Z",
          "shell.execute_reply.started": "2024-10-29T23:19:56.269735Z",
          "shell.execute_reply": "2024-10-29T23:19:56.73723Z"
        },
        "trusted": true,
        "id": "Jj2C_SQ2xxVy"
      },
      "execution_count": 4,
      "outputs": []
    },
    {
      "cell_type": "code",
      "source": [
        "for row in rdd.take(2):\n",
        "    print(row)"
      ],
      "metadata": {
        "execution": {
          "iopub.status.busy": "2024-10-29T23:19:58.079293Z",
          "iopub.execute_input": "2024-10-29T23:19:58.080925Z",
          "iopub.status.idle": "2024-10-29T23:19:58.478163Z",
          "shell.execute_reply.started": "2024-10-29T23:19:58.080856Z",
          "shell.execute_reply": "2024-10-29T23:19:58.476686Z"
        },
        "trusted": true,
        "id": "_dEUfh3oxxVz",
        "outputId": "f8b4620b-be85-4991-ed3e-ab887937b423",
        "colab": {
          "base_uri": "https://localhost:8080/"
        }
      },
      "execution_count": 5,
      "outputs": [
        {
          "output_type": "stream",
          "name": "stdout",
          "text": [
            "Row(_c0='ID', _c1='Name', _c2='Sex', _c3='Age', _c4='Height', _c5='Weight', _c6='Team', _c7='NOC', _c8='Games', _c9='Year', _c10='Season', _c11='City', _c12='Sport', _c13='Event', _c14='Medal')\n",
            "Row(_c0='1', _c1='A Dijiang', _c2='M', _c3='24', _c4='180', _c5='80', _c6='China', _c7='CHN', _c8='1992 Summer', _c9='1992', _c10='Summer', _c11='Barcelona', _c12='Basketball', _c13=\"Basketball Men's Basketball\", _c14='NA')\n"
          ]
        }
      ]
    },
    {
      "cell_type": "code",
      "source": [
        "# remove o header\n",
        "rdd = rdd.zipWithIndex().filter(lambda row_index: row_index[1] > 0).map(lambda row_index: row_index[0])"
      ],
      "metadata": {
        "execution": {
          "iopub.status.busy": "2024-10-29T23:20:10.777531Z",
          "iopub.execute_input": "2024-10-29T23:20:10.778757Z",
          "iopub.status.idle": "2024-10-29T23:20:10.789878Z",
          "shell.execute_reply.started": "2024-10-29T23:20:10.778687Z",
          "shell.execute_reply": "2024-10-29T23:20:10.788237Z"
        },
        "trusted": true,
        "id": "Ja7SPCsoxxV0"
      },
      "execution_count": 6,
      "outputs": []
    },
    {
      "cell_type": "markdown",
      "source": [
        "#### 1.1 Contagem de Atletas por Ano"
      ],
      "metadata": {
        "id": "ph8byLMPxxV1"
      }
    },
    {
      "cell_type": "code",
      "source": [
        "consulta1_1m = rdd.map(lambda row: ((row._c9), 1))\n",
        "consulta1_1r = consulta1_1m.reduceByKey(lambda a,b: a + b)"
      ],
      "metadata": {
        "execution": {
          "iopub.status.busy": "2024-10-29T23:20:13.144989Z",
          "iopub.execute_input": "2024-10-29T23:20:13.145642Z",
          "iopub.status.idle": "2024-10-29T23:20:13.187687Z",
          "shell.execute_reply.started": "2024-10-29T23:20:13.145585Z",
          "shell.execute_reply": "2024-10-29T23:20:13.184474Z"
        },
        "trusted": true,
        "id": "VrVpVxWixxV1"
      },
      "execution_count": 7,
      "outputs": []
    },
    {
      "cell_type": "code",
      "source": [
        "results = consulta1_1r.take(10)\n",
        "for result in results:\n",
        "    print(result)"
      ],
      "metadata": {
        "execution": {
          "iopub.status.busy": "2024-10-29T23:20:14.281372Z",
          "iopub.execute_input": "2024-10-29T23:20:14.282835Z",
          "iopub.status.idle": "2024-10-29T23:20:22.181246Z",
          "shell.execute_reply.started": "2024-10-29T23:20:14.282754Z",
          "shell.execute_reply": "2024-10-29T23:20:22.179586Z"
        },
        "trusted": true,
        "id": "Qo5q0KsIxxV1",
        "outputId": "22d320eb-5ba7-44eb-c3a9-45bcd5830493",
        "colab": {
          "base_uri": "https://localhost:8080/"
        }
      },
      "execution_count": 8,
      "outputs": [
        {
          "output_type": "stream",
          "name": "stdout",
          "text": [
            "('1992', 10083)\n",
            "('2012', 7958)\n",
            "('1920', 2655)\n",
            "('1900', 1299)\n",
            "('1988', 9120)\n",
            "('1994', 1852)\n",
            "('1932', 2150)\n",
            "('2002', 2409)\n",
            "('1952', 5727)\n",
            "('1980', 5431)\n"
          ]
        }
      ]
    },
    {
      "cell_type": "code",
      "source": [
        "output_dir = \"out/consulta1_1\"\n",
        "if os.path.exists(output_dir):\n",
        "    shutil.rmtree(output_dir)"
      ],
      "metadata": {
        "execution": {
          "iopub.status.busy": "2024-10-29T23:20:22.18484Z",
          "iopub.execute_input": "2024-10-29T23:20:22.185658Z",
          "iopub.status.idle": "2024-10-29T23:20:22.198736Z",
          "shell.execute_reply.started": "2024-10-29T23:20:22.185581Z",
          "shell.execute_reply": "2024-10-29T23:20:22.196272Z"
        },
        "trusted": true,
        "id": "tmS_qFHoxxV2"
      },
      "execution_count": 23,
      "outputs": []
    },
    {
      "cell_type": "code",
      "source": [
        "consulta1_1r.saveAsTextFile(output_dir)"
      ],
      "metadata": {
        "execution": {
          "iopub.status.busy": "2024-10-29T23:20:22.202949Z",
          "iopub.execute_input": "2024-10-29T23:20:22.205521Z",
          "iopub.status.idle": "2024-10-29T23:20:22.619944Z",
          "shell.execute_reply.started": "2024-10-29T23:20:22.205421Z",
          "shell.execute_reply": "2024-10-29T23:20:22.618148Z"
        },
        "trusted": true,
        "id": "jd2wP_EIxxV2"
      },
      "execution_count": 24,
      "outputs": []
    },
    {
      "cell_type": "markdown",
      "source": [
        "### 1.2 Contagem de Atletas por esporte"
      ],
      "metadata": {
        "id": "WzwfQodJxxV2"
      }
    },
    {
      "cell_type": "code",
      "source": [
        "consulta1_2m = rdd.map(lambda row: ((row._c12), 1))\n",
        "consulta1_2r = consulta1_2m.reduceByKey(lambda a,b: a + b) #soma os val"
      ],
      "metadata": {
        "execution": {
          "iopub.status.busy": "2024-10-29T23:20:22.6278Z",
          "iopub.execute_input": "2024-10-29T23:20:22.641969Z",
          "iopub.status.idle": "2024-10-29T23:20:22.679196Z",
          "shell.execute_reply.started": "2024-10-29T23:20:22.641853Z",
          "shell.execute_reply": "2024-10-29T23:20:22.67717Z"
        },
        "trusted": true,
        "id": "cFMVlG0GxxV3"
      },
      "execution_count": 11,
      "outputs": []
    },
    {
      "cell_type": "code",
      "source": [
        "results = consulta1_2r.take(10)\n",
        "for result in results:\n",
        "    print(result)"
      ],
      "metadata": {
        "execution": {
          "iopub.status.busy": "2024-10-29T23:20:22.681779Z",
          "iopub.execute_input": "2024-10-29T23:20:22.68329Z",
          "iopub.status.idle": "2024-10-29T23:20:31.000179Z",
          "shell.execute_reply.started": "2024-10-29T23:20:22.683211Z",
          "shell.execute_reply": "2024-10-29T23:20:30.998643Z"
        },
        "trusted": true,
        "id": "CtsLAX-5xxV3",
        "outputId": "6da57e06-d2c1-4553-a321-6c54a64fe3b2",
        "colab": {
          "base_uri": "https://localhost:8080/"
        }
      },
      "execution_count": 12,
      "outputs": [
        {
          "output_type": "stream",
          "name": "stdout",
          "text": [
            "('Basketball', 2843)\n",
            "('Judo', 2347)\n",
            "('Football', 4249)\n",
            "('Tug-Of-War', 104)\n",
            "('Speed Skating', 3378)\n",
            "('Cross Country Skiing', 5416)\n",
            "('Athletics', 23978)\n",
            "('Ice Hockey', 3236)\n",
            "('Swimming', 14148)\n",
            "('Badminton', 865)\n"
          ]
        }
      ]
    },
    {
      "cell_type": "code",
      "source": [
        "output_dir = \"out/consulta1_2\"\n",
        "if os.path.exists(output_dir):\n",
        "    shutil.rmtree(output_dir)"
      ],
      "metadata": {
        "execution": {
          "iopub.status.busy": "2024-10-29T23:20:31.003653Z",
          "iopub.execute_input": "2024-10-29T23:20:31.004684Z",
          "iopub.status.idle": "2024-10-29T23:20:31.013772Z",
          "shell.execute_reply.started": "2024-10-29T23:20:31.004613Z",
          "shell.execute_reply": "2024-10-29T23:20:31.01195Z"
        },
        "trusted": true,
        "id": "-GFqOcHDxxV3"
      },
      "execution_count": 25,
      "outputs": []
    },
    {
      "cell_type": "code",
      "source": [
        "consulta1_2r.saveAsTextFile(output_dir)"
      ],
      "metadata": {
        "execution": {
          "iopub.status.busy": "2024-10-29T23:20:31.016706Z",
          "iopub.execute_input": "2024-10-29T23:20:31.017903Z",
          "iopub.status.idle": "2024-10-29T23:20:31.408298Z",
          "shell.execute_reply.started": "2024-10-29T23:20:31.017826Z",
          "shell.execute_reply": "2024-10-29T23:20:31.406648Z"
        },
        "trusted": true,
        "id": "jetj37ySxxV3"
      },
      "execution_count": 26,
      "outputs": []
    },
    {
      "cell_type": "markdown",
      "source": [
        "### 1.3 Média de Idade dos Atletas por Gênero"
      ],
      "metadata": {
        "id": "3s4opwMhxxV3"
      }
    },
    {
      "cell_type": "code",
      "source": [
        "filtered_rdd = rdd.filter(lambda row: row._c3 != 'NA' and row._c3 is not None)\n",
        "\n",
        "consulta1_3m = filtered_rdd.map(lambda row: (row._c2, (int(row._c3), 1)))\n",
        "\n",
        "consulta1_3r = consulta1_3m.reduceByKey(lambda a, b: (a[0] + b[0], a[1] + b[1]))\n",
        "\n",
        "consulta1_3_avg = consulta1_3r.mapValues(lambda x: x[0] / x[1])\n",
        "\n",
        "results = consulta1_3_avg.collect()\n",
        "\n",
        "for gender, avg_age in results:\n",
        "    print(f\"Gender: {gender}, Average Age: {avg_age}\")"
      ],
      "metadata": {
        "id": "9SCy20iLxxV3",
        "colab": {
          "base_uri": "https://localhost:8080/"
        },
        "outputId": "c9ee0d42-48d8-4460-e168-dfe45c22eba3"
      },
      "execution_count": 27,
      "outputs": [
        {
          "output_type": "stream",
          "name": "stdout",
          "text": [
            "Gender: M, Average Age: 26.26023675862484\n",
            "Gender: F, Average Age: 23.739007700819766\n"
          ]
        }
      ]
    },
    {
      "cell_type": "code",
      "source": [
        "output_dir = \"out/consulta1_3\"\n",
        "if os.path.exists(output_dir):\n",
        "    shutil.rmtree(output_dir)\n",
        "\n",
        "consulta1_3_avg.saveAsTextFile(output_dir)"
      ],
      "metadata": {
        "id": "VXW0woAJEoMY"
      },
      "execution_count": 17,
      "outputs": []
    },
    {
      "cell_type": "markdown",
      "source": [
        "### 1.4 Contagem de medalhas por país"
      ],
      "metadata": {
        "id": "8oFzludQGHed"
      }
    },
    {
      "cell_type": "code",
      "source": [
        "consulta1_4m = rdd.filter(lambda row: row._c14 in ['Gold', 'Silver', 'Bronze']).map(lambda row: (row._c7, 1))\n",
        "\n",
        "consulta1_4r = consulta1_4m.reduceByKey(lambda a, b: a + b)\n",
        "\n",
        "results = consulta1_4r.take(10)\n",
        "\n",
        "for country, total_medals in results:\n",
        "    print(f\"Country: {country}, Total Medals: {total_medals}\")"
      ],
      "metadata": {
        "colab": {
          "base_uri": "https://localhost:8080/"
        },
        "id": "TdUcrIggGG1x",
        "outputId": "9c2e38c7-09a6-4529-c637-06736b662ff9"
      },
      "execution_count": 18,
      "outputs": [
        {
          "output_type": "stream",
          "name": "stdout",
          "text": [
            "Country: DEN, Total Medals: 385\n",
            "Country: FIN, Total Medals: 461\n",
            "Country: NOR, Total Medals: 654\n",
            "Country: NED, Total Medals: 516\n",
            "Country: FRA, Total Medals: 1298\n",
            "Country: ITA, Total Medals: 1026\n",
            "Country: ESP, Total Medals: 329\n",
            "Country: AZE, Total Medals: 24\n",
            "Country: RUS, Total Medals: 658\n",
            "Country: BLR, Total Medals: 82\n"
          ]
        }
      ]
    },
    {
      "cell_type": "code",
      "source": [
        "output_dir = \"out/consulta1_4\"\n",
        "if os.path.exists(output_dir):\n",
        "    shutil.rmtree(output_dir)\n",
        "\n",
        "consulta1_4r.saveAsTextFile(output_dir)"
      ],
      "metadata": {
        "id": "ipid6J1aGet4"
      },
      "execution_count": 19,
      "outputs": []
    },
    {
      "cell_type": "markdown",
      "source": [
        "### 2.1 Contagem de Medalhas por País e Ano"
      ],
      "metadata": {
        "id": "kOuHPeD0Wsuv"
      }
    },
    {
      "cell_type": "code",
      "source": [
        "# Mapper: Emit (country, year) and 1 for each medal won (Gold, Silver, Bronze)\n",
        "consulta2_1m = rdd.filter(lambda row: row._c14 in ['Gold', 'Silver', 'Bronze']).map(lambda row: ((row._c7, row._c9), 1))\n",
        "\n",
        "consulta2_1r = consulta2_1m.reduceByKey(lambda a, b: a + b)\n",
        "\n",
        "results = consulta2_1r.take(10)\n",
        "\n",
        "# Display the results\n",
        "for (country, year), total_medals in results:\n",
        "    print(f\"Country: {country}, Year: {year}, Total Medals: {total_medals}\")"
      ],
      "metadata": {
        "colab": {
          "base_uri": "https://localhost:8080/"
        },
        "id": "U5PL_wZFWvZk",
        "outputId": "34706d43-ec0b-4dc8-acde-4a693619559a"
      },
      "execution_count": 28,
      "outputs": [
        {
          "output_type": "stream",
          "name": "stdout",
          "text": [
            "Country: DEN, Year: 1900, Total Medals: 3\n",
            "Country: FIN, Year: 1920, Total Medals: 23\n",
            "Country: FIN, Year: 2014, Total Medals: 18\n",
            "Country: FIN, Year: 1948, Total Medals: 24\n",
            "Country: FIN, Year: 1952, Total Medals: 30\n",
            "Country: NOR, Year: 1992, Total Medals: 25\n",
            "Country: NOR, Year: 1994, Total Medals: 18\n",
            "Country: NOR, Year: 2002, Total Medals: 24\n",
            "Country: NOR, Year: 2006, Total Medals: 19\n",
            "Country: NOR, Year: 2008, Total Medals: 11\n"
          ]
        }
      ]
    },
    {
      "cell_type": "code",
      "source": [
        "output_dir = \"out/consulta2_1\"\n",
        "if os.path.exists(output_dir):\n",
        "    shutil.rmtree(output_dir)\n",
        "\n",
        "consulta2_1r.saveAsTextFile(output_dir)"
      ],
      "metadata": {
        "id": "NlJAqrF5XYtZ"
      },
      "execution_count": 29,
      "outputs": []
    },
    {
      "cell_type": "markdown",
      "source": [
        "### 2.2. Top 3 Atletas com Mais Medalhas"
      ],
      "metadata": {
        "id": "uVGHALTLgbKV"
      }
    },
    {
      "cell_type": "code",
      "source": [
        "# Mapper: Emit (atleta, 1) for each medal won (Gold, Silver, Bronze)\n",
        "consulta2_2m = rdd.filter(lambda row: row._c14 in ['Gold', 'Silver', 'Bronze']).map(lambda row: (row._c1, 1))\n",
        "\n",
        "consulta2_2r = consulta2_2m.reduceByKey(lambda a, b: a + b)\n",
        "\n",
        "# Get the top 3 athletes with the most medals\n",
        "top_3_atletas = consulta2_2r.takeOrdered(3, key=lambda x: -x[1])\n",
        "\n",
        "for atleta, total_medals in top_3_atletas:\n",
        "    print(f\"Atleta: {atleta}, Total Medals: {total_medals}\")"
      ],
      "metadata": {
        "colab": {
          "base_uri": "https://localhost:8080/"
        },
        "id": "_MEHkBRUga1F",
        "outputId": "9a32b4f5-600b-41c7-c24e-ee0cf7a4ca96"
      },
      "execution_count": 30,
      "outputs": [
        {
          "output_type": "stream",
          "name": "stdout",
          "text": [
            "Atleta: Larysa Semenivna Latynina (Diriy-), Total Medals: 18\n",
            "Atleta: Nikolay Yefimovich Andrianov, Total Medals: 15\n",
            "Atleta: Ole Einar Bjrndalen, Total Medals: 13\n"
          ]
        }
      ]
    },
    {
      "cell_type": "code",
      "source": [
        "output_dir = \"out/consulta2_2\"\n",
        "if os.path.exists(output_dir):\n",
        "    shutil.rmtree(output_dir)\n",
        "\n",
        "\n",
        "top_3_atletas_rdd = spark.sparkContext.parallelize(top_3_atletas)\n",
        "top_3_atletas_rdd.saveAsTextFile(output_dir)"
      ],
      "metadata": {
        "id": "kr0POfi6gqXe"
      },
      "execution_count": 31,
      "outputs": []
    },
    {
      "cell_type": "markdown",
      "source": [
        "### 2.3. Contagem de Atletas por Faixa Etária e Esporte"
      ],
      "metadata": {
        "id": "1NoHmsUghlgp"
      }
    },
    {
      "cell_type": "code",
      "source": [
        "def categorize_age(age):\n",
        "    if 20 <= age <= 30:\n",
        "        return '20-30'\n",
        "    elif 31 <= age <= 40:\n",
        "        return '31-40'\n",
        "    else:\n",
        "        return 'Other'\n",
        "\n",
        "filtered_rdd = rdd.filter(lambda row: row._c3.isdigit())\n",
        "\n",
        "consulta2_3m = filtered_rdd.map(lambda row: ((categorize_age(int(row._c3)), row._c12), 1))\n",
        "\n",
        "consulta2_3r = consulta2_3m.reduceByKey(lambda a, b: a + b)\n",
        "\n",
        "results = consulta2_3r.take(10)\n",
        "\n",
        "for (faixa_etaria, esporte), total_athletes in results:\n",
        "    print(f\"Faixa Etária: {faixa_etaria}, Esporte: {esporte}, Total Atletas: {total_athletes}\")"
      ],
      "metadata": {
        "colab": {
          "base_uri": "https://localhost:8080/"
        },
        "id": "2yjbJa7JhneP",
        "outputId": "c380dfc3-c660-49c4-9dff-ebf30a651701"
      },
      "execution_count": 32,
      "outputs": [
        {
          "output_type": "stream",
          "name": "stdout",
          "text": [
            "Faixa Etária: 20-30, Esporte: Basketball, Total Atletas: 2314\n",
            "Faixa Etária: 20-30, Esporte: Judo, Total Atletas: 1980\n",
            "Faixa Etária: 20-30, Esporte: Football, Total Atletas: 3487\n",
            "Faixa Etária: 31-40, Esporte: Tug-Of-War, Total Atletas: 24\n",
            "Faixa Etária: 20-30, Esporte: Speed Skating, Total Atletas: 2717\n",
            "Faixa Etária: 31-40, Esporte: Cross Country Skiing, Total Atletas: 785\n",
            "Faixa Etária: Other, Esporte: Athletics, Total Atletas: 1703\n",
            "Faixa Etária: 20-30, Esporte: Ice Hockey, Total Atletas: 2569\n",
            "Faixa Etária: 20-30, Esporte: Swimming, Total Atletas: 7712\n",
            "Faixa Etária: 20-30, Esporte: Cross Country Skiing, Total Atletas: 4381\n"
          ]
        }
      ]
    },
    {
      "cell_type": "code",
      "source": [
        "output_dir = \"out/consulta2_3\"\n",
        "if os.path.exists(output_dir):\n",
        "    shutil.rmtree(output_dir)\n",
        "\n",
        "consulta2_3r.saveAsTextFile(output_dir)"
      ],
      "metadata": {
        "id": "7wzbuuEfiOnL"
      },
      "execution_count": 33,
      "outputs": []
    },
    {
      "cell_type": "markdown",
      "source": [
        "### 2.4. Proporção de Atletas Homens e Mulheres por Ano"
      ],
      "metadata": {
        "id": "doDZyt-HiUon"
      }
    },
    {
      "cell_type": "code",
      "source": [
        "consulta2_4m = rdd.map(lambda row: (row._c9, (1, 0)) if row._c2 == 'M' else (row._c9, (0, 1)))\n",
        "\n",
        "# Combine sum of (males, females) by year\n",
        "consulta2_4c = consulta2_4m.reduceByKey(lambda a, b: (a[0] + b[0], a[1] + b[1]))\n",
        "\n",
        "# Reducer:  sum of (males, females) by year and calculate the proportion\n",
        "consulta2_4r = consulta2_4c.mapValues(lambda counts: (counts[0], counts[1], counts[0] / (counts[0] + counts[1]), counts[1] / (counts[0] + counts[1])))\n",
        "\n",
        "results = consulta2_4r.take(10)\n",
        "\n",
        "for year, (males, females, male_ratio, female_ratio) in results:\n",
        "    print(f\"Ano: {year}, Homens: {males}, Mulheres: {females}, Proporção Homens: {male_ratio:.2f}, Proporção Mulheres: {female_ratio:.2f}\")"
      ],
      "metadata": {
        "colab": {
          "base_uri": "https://localhost:8080/"
        },
        "id": "2iY7ug3fiWp6",
        "outputId": "846a6683-e951-4d85-cf6d-dbc04cb39a4e"
      },
      "execution_count": 34,
      "outputs": [
        {
          "output_type": "stream",
          "name": "stdout",
          "text": [
            "Ano: 1992, Homens: 7008, Mulheres: 3075, Proporção Homens: 0.70, Proporção Mulheres: 0.30\n",
            "Ano: 2012, Homens: 4441, Mulheres: 3517, Proporção Homens: 0.56, Proporção Mulheres: 0.44\n",
            "Ano: 1920, Homens: 2562, Mulheres: 93, Proporção Homens: 0.96, Proporção Mulheres: 0.04\n",
            "Ano: 1900, Homens: 1275, Mulheres: 24, Proporção Homens: 0.98, Proporção Mulheres: 0.02\n",
            "Ano: 1988, Homens: 6523, Mulheres: 2597, Proporção Homens: 0.72, Proporção Mulheres: 0.28\n",
            "Ano: 1994, Homens: 1231, Mulheres: 621, Proporção Homens: 0.66, Proporção Mulheres: 0.34\n",
            "Ano: 1932, Homens: 1910, Mulheres: 240, Proporção Homens: 0.89, Proporção Mulheres: 0.11\n",
            "Ano: 2002, Homens: 1565, Mulheres: 844, Proporção Homens: 0.65, Proporção Mulheres: 0.35\n",
            "Ano: 1952, Homens: 4743, Mulheres: 984, Proporção Homens: 0.83, Proporção Mulheres: 0.17\n",
            "Ano: 1980, Homens: 4123, Mulheres: 1308, Proporção Homens: 0.76, Proporção Mulheres: 0.24\n"
          ]
        }
      ]
    },
    {
      "cell_type": "code",
      "source": [
        "output_dir = \"out/consulta2_4\"\n",
        "if os.path.exists(output_dir):\n",
        "    shutil.rmtree(output_dir)\n",
        "\n",
        "consulta2_4r.saveAsTextFile(output_dir)"
      ],
      "metadata": {
        "id": "N6ShrE5ci3x8"
      },
      "execution_count": 35,
      "outputs": []
    },
    {
      "cell_type": "markdown",
      "source": [
        "### 3.1. Evolução da Idade Média dos Atletas por País"
      ],
      "metadata": {
        "id": "b7Rz3F1AjDV2"
      }
    },
    {
      "cell_type": "code",
      "source": [
        "filtered_rdd = rdd.filter(lambda row: row._c3.isdigit())\n",
        "\n",
        "# Mapper: Emit ((country, year), (age, 1)) for each row\n",
        "consulta3_1m = filtered_rdd.map(lambda row: ((row._c6, row._c9), (float(row._c3), 1)))\n",
        "\n",
        "# Reducer: Sum ages and counts\n",
        "consulta3_1c = consulta3_1m.reduceByKey(lambda a, b: (a[0] + b[0], a[1] + b[1]))\n",
        "\n",
        "# average age\n",
        "consulta3_1r = consulta3_1c.mapValues(lambda x: x[0] / x[1])\n",
        "\n",
        "# Mapper: Emit (country, (year, average_age)) for each entry\n",
        "consulta3_1m2 = consulta3_1r.map(lambda x: (x[0][0], (x[0][1], x[1])))\n",
        "\n",
        "results = consulta3_1m2.take(10)\n",
        "\n",
        "for country, (year, avg_age) in results:\n",
        "    print(f\"Country: {country}, Year: {year}, Average Age: {avg_age:.2f}\")"
      ],
      "metadata": {
        "colab": {
          "base_uri": "https://localhost:8080/"
        },
        "id": "iGO1s9ZumOq8",
        "outputId": "2c264887-fdff-48a7-fd87-cd818d1e06c3"
      },
      "execution_count": 43,
      "outputs": [
        {
          "output_type": "stream",
          "name": "stdout",
          "text": [
            "Country: China, Year: 1992, Average Age: 21.40\n",
            "Country: China, Year: 2012, Average Age: 24.00\n",
            "Country: Denmark, Year: 1920, Average Age: 29.11\n",
            "Country: Denmark/Sweden, Year: 1900, Average Age: 34.00\n",
            "Country: Netherlands, Year: 1988, Average Age: 24.46\n",
            "Country: Netherlands, Year: 1992, Average Age: 24.45\n",
            "Country: Netherlands, Year: 1994, Average Age: 22.60\n",
            "Country: United States, Year: 1992, Average Age: 25.69\n",
            "Country: United States, Year: 1994, Average Age: 25.73\n",
            "Country: Netherlands, Year: 1932, Average Age: 34.74\n"
          ]
        }
      ]
    },
    {
      "cell_type": "code",
      "source": [
        "output_dir = \"out/consulta3_1\"\n",
        "if os.path.exists(output_dir):\n",
        "    shutil.rmtree(output_dir)\n",
        "\n",
        "consulta3_1m2.saveAsTextFile(output_dir)"
      ],
      "metadata": {
        "id": "axYVj7TimtlR"
      },
      "execution_count": 54,
      "outputs": []
    },
    {
      "cell_type": "markdown",
      "source": [
        "### 3.2 Contagem de Medalhas por Tipo (Ouro, Prata, Bronze) por País e Ano"
      ],
      "metadata": {
        "id": "Ri4rE6jVnYoy"
      }
    },
    {
      "cell_type": "code",
      "source": [
        "medal_counts_map = rdd.filter(lambda row: row._c14.lower() in [\"gold\", \"silver\", \"bronze\"]).map(lambda row: ((row._c7, row._c9, row._c14.lower()), 1))\n",
        "\n",
        "medal_counts_reduce = medal_counts_map.reduceByKey(lambda a, b: a + b)\n",
        "\n",
        "medal_counts_by_type = medal_counts_reduce.map(lambda x: (x[0][0], x[0][1], x[0][2], x[1]))\n",
        "\n",
        "total_medals_map = medal_counts_by_type.map(lambda x: ((x[0], x[1]), (x[2], x[3])))\n",
        "\n",
        "total_medals_reduce = total_medals_map.groupByKey().mapValues(lambda medals: {\n",
        "    \"total\": sum(count for _, count in medals),\n",
        "    \"gold_percent\": sum(count for medal, count in medals if medal == \"gold\") / sum(count for _, count in medals),\n",
        "    \"silver_percent\": sum(count for medal, count in medals if medal == \"silver\") / sum(count for _, count in medals),\n",
        "    \"bronze_percent\": sum(count for medal, count in medals if medal == \"bronze\") / sum(count for _, count in medals)\n",
        "})\n",
        "\n",
        "# Formatted result\n",
        "results = total_medals_reduce.take(10)\n",
        "for (country, year), data in results:\n",
        "    print(f\"País: {country}, Ano: {year}, Total: {data['total']}, Percentual Ouro: {data['gold_percent']:.2%}, Percentual Prata: {data['silver_percent']:.2%}, Percentual Bronze: {data['bronze_percent']:.2%}\")\n"
      ],
      "metadata": {
        "colab": {
          "base_uri": "https://localhost:8080/"
        },
        "id": "enh5ceOBneKy",
        "outputId": "70a9719a-e129-45f7-8d07-1d8aa0b03332"
      },
      "execution_count": 51,
      "outputs": [
        {
          "output_type": "stream",
          "name": "stdout",
          "text": [
            "País: DEN, Ano: 1900, Total: 3, Percentual Ouro: 66.67%, Percentual Prata: 0.00%, Percentual Bronze: 33.33%\n",
            "País: FIN, Ano: 1920, Total: 23, Percentual Ouro: 47.83%, Percentual Prata: 17.39%, Percentual Bronze: 34.78%\n",
            "País: FIN, Ano: 2014, Total: 18, Percentual Ouro: 5.56%, Percentual Prata: 11.11%, Percentual Bronze: 83.33%\n",
            "País: FIN, Ano: 1948, Total: 24, Percentual Ouro: 37.50%, Percentual Prata: 29.17%, Percentual Bronze: 33.33%\n",
            "País: FIN, Ano: 1952, Total: 30, Percentual Ouro: 30.00%, Percentual Prata: 13.33%, Percentual Bronze: 56.67%\n",
            "País: NOR, Ano: 1992, Total: 25, Percentual Ouro: 24.00%, Percentual Prata: 56.00%, Percentual Bronze: 20.00%\n",
            "País: NOR, Ano: 1994, Total: 18, Percentual Ouro: 44.44%, Percentual Prata: 44.44%, Percentual Bronze: 11.11%\n",
            "País: NOR, Ano: 2002, Total: 24, Percentual Ouro: 66.67%, Percentual Prata: 20.83%, Percentual Bronze: 12.50%\n",
            "País: NOR, Ano: 2006, Total: 19, Percentual Ouro: 10.53%, Percentual Prata: 36.84%, Percentual Bronze: 52.63%\n",
            "País: NOR, Ano: 2008, Total: 11, Percentual Ouro: 81.82%, Percentual Prata: 18.18%, Percentual Bronze: 0.00%\n"
          ]
        }
      ]
    },
    {
      "cell_type": "code",
      "source": [
        "output_dir = \"out/consulta3_2\"\n",
        "if os.path.exists(output_dir):\n",
        "    shutil.rmtree(output_dir)\n",
        "\n",
        "consulta3_1m2.saveAsTextFile(output_dir)"
      ],
      "metadata": {
        "id": "ZNeK_KGMpY86"
      },
      "execution_count": 53,
      "outputs": []
    }
  ]
}