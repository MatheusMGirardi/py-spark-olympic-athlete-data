{
  "metadata": {
    "kernelspec": {
      "language": "python",
      "display_name": "Python 3",
      "name": "python3"
    },
    "language_info": {
      "name": "python",
      "version": "3.10.14",
      "mimetype": "text/x-python",
      "codemirror_mode": {
        "name": "ipython",
        "version": 3
      },
      "pygments_lexer": "ipython3",
      "nbconvert_exporter": "python",
      "file_extension": ".py"
    },
    "kaggle": {
      "accelerator": "none",
      "dataSources": [
        {
          "sourceId": 40943,
          "sourceType": "datasetVersion",
          "datasetId": 31029
        },
        {
          "sourceId": 9758098,
          "sourceType": "datasetVersion",
          "datasetId": 5975149
        }
      ],
      "dockerImageVersionId": 30786,
      "isInternetEnabled": true,
      "language": "python",
      "sourceType": "notebook",
      "isGpuEnabled": false
    },
    "colab": {
      "provenance": [],
      "include_colab_link": true
    }
  },
  "nbformat_minor": 0,
  "nbformat": 4,
  "cells": [
    {
      "cell_type": "markdown",
      "metadata": {
        "id": "view-in-github",
        "colab_type": "text"
      },
      "source": [
        "<a href=\"https://colab.research.google.com/github/MatheusMGirardi/py-spark-olympic-athlete-data/blob/main/PySpark_big_data.ipynb\" target=\"_parent\"><img src=\"https://colab.research.google.com/assets/colab-badge.svg\" alt=\"Open In Colab\"/></a>"
      ]
    },
    {
      "cell_type": "code",
      "source": [
        "import numpy as np # linear algebra\n",
        "import pandas as pd # data processing, CSV file I/O (e.g. pd.read_csv)\n",
        "import shutil\n",
        "import os"
      ],
      "metadata": {
        "_uuid": "8f2839f25d086af736a60e9eeb907d3b93b6e0e5",
        "_cell_guid": "b1076dfc-b9ad-4769-8c92-a6c4dae69d19",
        "execution": {
          "iopub.status.busy": "2024-10-29T23:00:22.464879Z",
          "iopub.execute_input": "2024-10-29T23:00:22.465464Z",
          "iopub.status.idle": "2024-10-29T23:00:22.473856Z",
          "shell.execute_reply.started": "2024-10-29T23:00:22.465412Z",
          "shell.execute_reply": "2024-10-29T23:00:22.471603Z"
        },
        "trusted": true,
        "id": "mxeGJVh4xxVq"
      },
      "execution_count": 2,
      "outputs": []
    },
    {
      "cell_type": "code",
      "source": [
        "!pip install -q findspark\n",
        "!pip install pyspark"
      ],
      "metadata": {
        "execution": {
          "iopub.status.busy": "2024-10-29T22:49:24.081919Z",
          "iopub.execute_input": "2024-10-29T22:49:24.082796Z"
        },
        "trusted": true,
        "id": "135MjKI6xxVr",
        "outputId": "b7e4d7ae-93de-4897-ecc6-ba25bdbf9d06",
        "colab": {
          "base_uri": "https://localhost:8080/"
        }
      },
      "execution_count": 3,
      "outputs": [
        {
          "output_type": "stream",
          "name": "stdout",
          "text": [
            "Requirement already satisfied: pyspark in /usr/local/lib/python3.10/dist-packages (3.5.3)\n",
            "Requirement already satisfied: py4j==0.10.9.7 in /usr/local/lib/python3.10/dist-packages (from pyspark) (0.10.9.7)\n"
          ]
        }
      ]
    },
    {
      "cell_type": "code",
      "source": [
        "import findspark\n",
        "findspark.init()\n",
        "\n",
        "from pyspark.sql import SparkSession\n",
        "\n",
        "if __name__ == \"__main__\":\n",
        "    spark = SparkSession.builder.appName(\"TDE4\").master(\"local\").getOrCreate()"
      ],
      "metadata": {
        "execution": {
          "iopub.status.busy": "2024-10-29T23:19:03.507612Z",
          "iopub.execute_input": "2024-10-29T23:19:03.508281Z",
          "iopub.status.idle": "2024-10-29T23:19:03.522878Z",
          "shell.execute_reply.started": "2024-10-29T23:19:03.508227Z",
          "shell.execute_reply": "2024-10-29T23:19:03.521051Z"
        },
        "trusted": true,
        "id": "fySG2Cu3xxVu"
      },
      "execution_count": 4,
      "outputs": []
    },
    {
      "cell_type": "markdown",
      "source": [
        "#### 1. CSV loading"
      ],
      "metadata": {
        "id": "DZ5-ady3xxVv"
      }
    },
    {
      "cell_type": "code",
      "source": [
        "df = spark.read.csv(\"/content/athletes.csv\")\n",
        "rdd = df.rdd"
      ],
      "metadata": {
        "execution": {
          "iopub.status.busy": "2024-10-29T23:19:56.269038Z",
          "iopub.execute_input": "2024-10-29T23:19:56.269796Z",
          "iopub.status.idle": "2024-10-29T23:19:56.738953Z",
          "shell.execute_reply.started": "2024-10-29T23:19:56.269735Z",
          "shell.execute_reply": "2024-10-29T23:19:56.73723Z"
        },
        "trusted": true,
        "id": "Jj2C_SQ2xxVy"
      },
      "execution_count": 5,
      "outputs": []
    },
    {
      "cell_type": "code",
      "source": [
        "for row in rdd.take(2):\n",
        "    print(row)"
      ],
      "metadata": {
        "execution": {
          "iopub.status.busy": "2024-10-29T23:19:58.079293Z",
          "iopub.execute_input": "2024-10-29T23:19:58.080925Z",
          "iopub.status.idle": "2024-10-29T23:19:58.478163Z",
          "shell.execute_reply.started": "2024-10-29T23:19:58.080856Z",
          "shell.execute_reply": "2024-10-29T23:19:58.476686Z"
        },
        "trusted": true,
        "id": "_dEUfh3oxxVz",
        "outputId": "376e3b51-c0db-47f8-f2aa-3309c5a0d32b",
        "colab": {
          "base_uri": "https://localhost:8080/"
        }
      },
      "execution_count": 6,
      "outputs": [
        {
          "output_type": "stream",
          "name": "stdout",
          "text": [
            "Row(_c0='ID', _c1='Name', _c2='Sex', _c3='Age', _c4='Height', _c5='Weight', _c6='Team', _c7='NOC', _c8='Games', _c9='Year', _c10='Season', _c11='City', _c12='Sport', _c13='Event', _c14='Medal')\n",
            "Row(_c0='1', _c1='A Dijiang', _c2='M', _c3='24', _c4='180', _c5='80', _c6='China', _c7='CHN', _c8='1992 Summer', _c9='1992', _c10='Summer', _c11='Barcelona', _c12='Basketball', _c13=\"Basketball Men's Basketball\", _c14='NA')\n"
          ]
        }
      ]
    },
    {
      "cell_type": "code",
      "source": [
        "# remove o header\n",
        "rdd = rdd.zipWithIndex().filter(lambda row_index: row_index[1] > 0).map(lambda row_index: row_index[0])"
      ],
      "metadata": {
        "execution": {
          "iopub.status.busy": "2024-10-29T23:20:10.777531Z",
          "iopub.execute_input": "2024-10-29T23:20:10.778757Z",
          "iopub.status.idle": "2024-10-29T23:20:10.789878Z",
          "shell.execute_reply.started": "2024-10-29T23:20:10.778687Z",
          "shell.execute_reply": "2024-10-29T23:20:10.788237Z"
        },
        "trusted": true,
        "id": "Ja7SPCsoxxV0"
      },
      "execution_count": 7,
      "outputs": []
    },
    {
      "cell_type": "markdown",
      "source": [
        "#### 1.1 Contagem de Atletas por Ano"
      ],
      "metadata": {
        "id": "ph8byLMPxxV1"
      }
    },
    {
      "cell_type": "code",
      "source": [
        "consulta1_1m = rdd.map(lambda row: ((row._c9), 1))\n",
        "consulta1_1r = consulta1_1m.reduceByKey(lambda a,b: a + b)"
      ],
      "metadata": {
        "execution": {
          "iopub.status.busy": "2024-10-29T23:20:13.144989Z",
          "iopub.execute_input": "2024-10-29T23:20:13.145642Z",
          "iopub.status.idle": "2024-10-29T23:20:13.187687Z",
          "shell.execute_reply.started": "2024-10-29T23:20:13.145585Z",
          "shell.execute_reply": "2024-10-29T23:20:13.184474Z"
        },
        "trusted": true,
        "id": "VrVpVxWixxV1"
      },
      "execution_count": 8,
      "outputs": []
    },
    {
      "cell_type": "code",
      "source": [
        "results = consulta1_1r.take(10)\n",
        "for result in results:\n",
        "    print(result)"
      ],
      "metadata": {
        "execution": {
          "iopub.status.busy": "2024-10-29T23:20:14.281372Z",
          "iopub.execute_input": "2024-10-29T23:20:14.282835Z",
          "iopub.status.idle": "2024-10-29T23:20:22.181246Z",
          "shell.execute_reply.started": "2024-10-29T23:20:14.282754Z",
          "shell.execute_reply": "2024-10-29T23:20:22.179586Z"
        },
        "trusted": true,
        "id": "Qo5q0KsIxxV1",
        "outputId": "471ffb1f-b913-4fea-b158-2a319b82e6e7",
        "colab": {
          "base_uri": "https://localhost:8080/"
        }
      },
      "execution_count": 9,
      "outputs": [
        {
          "output_type": "stream",
          "name": "stdout",
          "text": [
            "('1992', 16413)\n",
            "('2012', 12920)\n",
            "('1920', 4292)\n",
            "('1900', 1936)\n",
            "('1988', 14676)\n",
            "('1994', 3160)\n",
            "('1932', 3321)\n",
            "('2002', 4109)\n",
            "('1952', 9358)\n",
            "('1980', 8937)\n"
          ]
        }
      ]
    },
    {
      "cell_type": "code",
      "source": [
        "output_dir = \"out/consulta1_1\"\n",
        "if os.path.exists(output_dir):\n",
        "    shutil.rmtree(output_dir)"
      ],
      "metadata": {
        "execution": {
          "iopub.status.busy": "2024-10-29T23:20:22.18484Z",
          "iopub.execute_input": "2024-10-29T23:20:22.185658Z",
          "iopub.status.idle": "2024-10-29T23:20:22.198736Z",
          "shell.execute_reply.started": "2024-10-29T23:20:22.185581Z",
          "shell.execute_reply": "2024-10-29T23:20:22.196272Z"
        },
        "trusted": true,
        "id": "tmS_qFHoxxV2"
      },
      "execution_count": 10,
      "outputs": []
    },
    {
      "cell_type": "code",
      "source": [
        "consulta1_1r.saveAsTextFile(output_dir)"
      ],
      "metadata": {
        "execution": {
          "iopub.status.busy": "2024-10-29T23:20:22.202949Z",
          "iopub.execute_input": "2024-10-29T23:20:22.205521Z",
          "iopub.status.idle": "2024-10-29T23:20:22.619944Z",
          "shell.execute_reply.started": "2024-10-29T23:20:22.205421Z",
          "shell.execute_reply": "2024-10-29T23:20:22.618148Z"
        },
        "trusted": true,
        "id": "jd2wP_EIxxV2"
      },
      "execution_count": 11,
      "outputs": []
    },
    {
      "cell_type": "markdown",
      "source": [
        "### 1.2 Contagem de Atletas por esporte"
      ],
      "metadata": {
        "id": "WzwfQodJxxV2"
      }
    },
    {
      "cell_type": "code",
      "source": [
        "consulta1_2m = rdd.map(lambda row: ((row._c12), 1))\n",
        "consulta1_2r = consulta1_2m.reduceByKey(lambda a,b: a + b) #soma os val"
      ],
      "metadata": {
        "execution": {
          "iopub.status.busy": "2024-10-29T23:20:22.6278Z",
          "iopub.execute_input": "2024-10-29T23:20:22.641969Z",
          "iopub.status.idle": "2024-10-29T23:20:22.679196Z",
          "shell.execute_reply.started": "2024-10-29T23:20:22.641853Z",
          "shell.execute_reply": "2024-10-29T23:20:22.67717Z"
        },
        "trusted": true,
        "id": "cFMVlG0GxxV3"
      },
      "execution_count": 12,
      "outputs": []
    },
    {
      "cell_type": "code",
      "source": [
        "results = consulta1_2r.take(10)\n",
        "for result in results:\n",
        "    print(result)"
      ],
      "metadata": {
        "execution": {
          "iopub.status.busy": "2024-10-29T23:20:22.681779Z",
          "iopub.execute_input": "2024-10-29T23:20:22.68329Z",
          "iopub.status.idle": "2024-10-29T23:20:31.000179Z",
          "shell.execute_reply.started": "2024-10-29T23:20:22.683211Z",
          "shell.execute_reply": "2024-10-29T23:20:30.998643Z"
        },
        "trusted": true,
        "id": "CtsLAX-5xxV3",
        "outputId": "ea066846-9100-4635-ea84-4251a5970747",
        "colab": {
          "base_uri": "https://localhost:8080/"
        }
      },
      "execution_count": 13,
      "outputs": [
        {
          "output_type": "stream",
          "name": "stdout",
          "text": [
            "('Basketball', 4536)\n",
            "('Judo', 3801)\n",
            "('Football', 6745)\n",
            "('Tug-Of-War', 170)\n",
            "('Speed Skating', 5613)\n",
            "('Cross Country Skiing', 9133)\n",
            "('Athletics', 38624)\n",
            "('Ice Hockey', 5516)\n",
            "('Swimming', 23195)\n",
            "('Badminton', 1457)\n"
          ]
        }
      ]
    },
    {
      "cell_type": "code",
      "source": [
        "output_dir = \"out/consulta1_2\"\n",
        "if os.path.exists(output_dir):\n",
        "    shutil.rmtree(output_dir)"
      ],
      "metadata": {
        "execution": {
          "iopub.status.busy": "2024-10-29T23:20:31.003653Z",
          "iopub.execute_input": "2024-10-29T23:20:31.004684Z",
          "iopub.status.idle": "2024-10-29T23:20:31.013772Z",
          "shell.execute_reply.started": "2024-10-29T23:20:31.004613Z",
          "shell.execute_reply": "2024-10-29T23:20:31.01195Z"
        },
        "trusted": true,
        "id": "-GFqOcHDxxV3"
      },
      "execution_count": 14,
      "outputs": []
    },
    {
      "cell_type": "code",
      "source": [
        "consulta1_2r.saveAsTextFile(output_dir)"
      ],
      "metadata": {
        "execution": {
          "iopub.status.busy": "2024-10-29T23:20:31.016706Z",
          "iopub.execute_input": "2024-10-29T23:20:31.017903Z",
          "iopub.status.idle": "2024-10-29T23:20:31.408298Z",
          "shell.execute_reply.started": "2024-10-29T23:20:31.017826Z",
          "shell.execute_reply": "2024-10-29T23:20:31.406648Z"
        },
        "trusted": true,
        "id": "jetj37ySxxV3"
      },
      "execution_count": 15,
      "outputs": []
    },
    {
      "cell_type": "markdown",
      "source": [
        "### 1.3 Média de Idade dos Atletas por Gênero"
      ],
      "metadata": {
        "id": "3s4opwMhxxV3"
      }
    },
    {
      "cell_type": "code",
      "source": [
        "filtered_rdd = rdd.filter(lambda row: row._c3 != 'NA' and row._c3 is not None)\n",
        "\n",
        "consulta1_3m = filtered_rdd.map(lambda row: (row._c2, (int(row._c3), 1)))\n",
        "\n",
        "consulta1_3r = consulta1_3m.reduceByKey(lambda a, b: (a[0] + b[0], a[1] + b[1]))\n",
        "\n",
        "consulta1_3_avg = consulta1_3r.mapValues(lambda x: x[0] / x[1])\n",
        "\n",
        "results = consulta1_3_avg.collect()\n",
        "\n",
        "for gender, avg_age in results:\n",
        "    print(f\"Gender: {gender}, Average Age: {avg_age}\")"
      ],
      "metadata": {
        "id": "9SCy20iLxxV3",
        "colab": {
          "base_uri": "https://localhost:8080/"
        },
        "outputId": "fe00c7d0-a4bb-460b-8963-ec5f43ef0b1e"
      },
      "execution_count": 16,
      "outputs": [
        {
          "output_type": "stream",
          "name": "stdout",
          "text": [
            "Gender: M, Average Age: 26.277561532227104\n",
            "Gender: F, Average Age: 23.732880779508218\n"
          ]
        }
      ]
    },
    {
      "cell_type": "code",
      "source": [
        "output_dir = \"out/consulta1_3\"\n",
        "if os.path.exists(output_dir):\n",
        "    shutil.rmtree(output_dir)\n",
        "\n",
        "consulta1_3_avg.saveAsTextFile(output_dir)"
      ],
      "metadata": {
        "id": "VXW0woAJEoMY"
      },
      "execution_count": 17,
      "outputs": []
    },
    {
      "cell_type": "markdown",
      "source": [
        "### 1.4 Contagem de medalhas por país"
      ],
      "metadata": {
        "id": "8oFzludQGHed"
      }
    },
    {
      "cell_type": "code",
      "source": [
        "consulta1_4m = rdd.filter(lambda row: row._c14 in ['Gold', 'Silver', 'Bronze']).map(lambda row: (row._c7, 1))\n",
        "\n",
        "consulta1_4r = consulta1_4m.reduceByKey(lambda a, b: a + b)\n",
        "\n",
        "results = consulta1_4r.take(10)\n",
        "\n",
        "for country, total_medals in results:\n",
        "    print(f\"Country: {country}, Total Medals: {total_medals}\")"
      ],
      "metadata": {
        "colab": {
          "base_uri": "https://localhost:8080/"
        },
        "id": "TdUcrIggGG1x",
        "outputId": "2f81cb2c-5a6c-400f-89d6-da56af0629ef"
      },
      "execution_count": 18,
      "outputs": [
        {
          "output_type": "stream",
          "name": "stdout",
          "text": [
            "Country: DEN, Total Medals: 597\n",
            "Country: FIN, Total Medals: 900\n",
            "Country: NOR, Total Medals: 1033\n",
            "Country: NED, Total Medals: 1040\n",
            "Country: FRA, Total Medals: 1777\n",
            "Country: ITA, Total Medals: 1637\n",
            "Country: ESP, Total Medals: 489\n",
            "Country: AZE, Total Medals: 44\n",
            "Country: RUS, Total Medals: 1165\n",
            "Country: BLR, Total Medals: 139\n"
          ]
        }
      ]
    },
    {
      "cell_type": "code",
      "source": [
        "output_dir = \"out/consulta1_4\"\n",
        "if os.path.exists(output_dir):\n",
        "    shutil.rmtree(output_dir)\n",
        "\n",
        "consulta1_4r.saveAsTextFile(output_dir)"
      ],
      "metadata": {
        "id": "ipid6J1aGet4"
      },
      "execution_count": 19,
      "outputs": []
    },
    {
      "cell_type": "markdown",
      "source": [
        "### 2.1 Contagem de Medalhas por País e Ano"
      ],
      "metadata": {
        "id": "kOuHPeD0Wsuv"
      }
    },
    {
      "cell_type": "code",
      "source": [
        "# Mapper: Emit (country, year) and 1 for each medal won (Gold, Silver, Bronze)\n",
        "consulta2_1m = rdd.filter(lambda row: row._c14 in ['Gold', 'Silver', 'Bronze']).map(lambda row: ((row._c7, row._c9), 1))\n",
        "\n",
        "consulta2_1r = consulta2_1m.reduceByKey(lambda a, b: a + b)\n",
        "\n",
        "results = consulta2_1r.take(10)\n",
        "\n",
        "# Display the results\n",
        "for (country, year), total_medals in results:\n",
        "    print(f\"Country: {country}, Year: {year}, Total Medals: {total_medals}\")"
      ],
      "metadata": {
        "colab": {
          "base_uri": "https://localhost:8080/"
        },
        "id": "U5PL_wZFWvZk",
        "outputId": "ece3ccdd-c08e-4088-aa3b-262c4911fecb"
      },
      "execution_count": 20,
      "outputs": [
        {
          "output_type": "stream",
          "name": "stdout",
          "text": [
            "Country: DEN, Year: 1900, Total Medals: 9\n",
            "Country: FIN, Year: 1920, Total Medals: 52\n",
            "Country: FIN, Year: 2014, Total Medals: 33\n",
            "Country: FIN, Year: 1948, Total Medals: 42\n",
            "Country: FIN, Year: 1952, Total Medals: 52\n",
            "Country: NOR, Year: 1992, Total Medals: 47\n",
            "Country: NOR, Year: 1994, Total Medals: 30\n",
            "Country: NOR, Year: 2002, Total Medals: 41\n",
            "Country: NOR, Year: 2006, Total Medals: 23\n",
            "Country: NOR, Year: 2008, Total Medals: 22\n"
          ]
        }
      ]
    },
    {
      "cell_type": "code",
      "source": [
        "output_dir = \"out/consulta2_1\"\n",
        "if os.path.exists(output_dir):\n",
        "    shutil.rmtree(output_dir)\n",
        "\n",
        "consulta2_1r.saveAsTextFile(output_dir)"
      ],
      "metadata": {
        "id": "NlJAqrF5XYtZ"
      },
      "execution_count": 21,
      "outputs": []
    },
    {
      "cell_type": "markdown",
      "source": [
        "### 2.2. Top 3 Atletas com Mais Medalhas"
      ],
      "metadata": {
        "id": "uVGHALTLgbKV"
      }
    },
    {
      "cell_type": "code",
      "source": [
        "# Mapper: Emit (atleta, 1) for each medal won (Gold, Silver, Bronze)\n",
        "consulta2_2m = rdd.filter(lambda row: row._c14 in ['Gold', 'Silver', 'Bronze']).map(lambda row: (row._c1, 1))\n",
        "\n",
        "consulta2_2r = consulta2_2m.reduceByKey(lambda a, b: a + b)\n",
        "\n",
        "# Get the top 3 athletes with the most medals\n",
        "top_3_atletas = consulta2_2r.takeOrdered(3, key=lambda x: -x[1])\n",
        "\n",
        "for atleta, total_medals in top_3_atletas:\n",
        "    print(f\"Atleta: {atleta}, Total Medals: {total_medals}\")"
      ],
      "metadata": {
        "colab": {
          "base_uri": "https://localhost:8080/"
        },
        "id": "_MEHkBRUga1F",
        "outputId": "5fb322e2-53d9-48de-bc2e-9b3a33cb4a0e"
      },
      "execution_count": 22,
      "outputs": [
        {
          "output_type": "stream",
          "name": "stdout",
          "text": [
            "Atleta: Michael Fred Phelps II, Total Medals: 28\n",
            "Atleta: Larysa Semenivna Latynina (Diriy-), Total Medals: 18\n",
            "Atleta: Nikolay Yefimovich Andrianov, Total Medals: 15\n"
          ]
        }
      ]
    },
    {
      "cell_type": "code",
      "source": [
        "output_dir = \"out/consulta2_2\"\n",
        "if os.path.exists(output_dir):\n",
        "    shutil.rmtree(output_dir)\n",
        "\n",
        "\n",
        "top_3_atletas_rdd = spark.sparkContext.parallelize(top_3_atletas)\n",
        "top_3_atletas_rdd.saveAsTextFile(output_dir)"
      ],
      "metadata": {
        "id": "kr0POfi6gqXe"
      },
      "execution_count": 23,
      "outputs": []
    },
    {
      "cell_type": "markdown",
      "source": [
        "### 2.3. Contagem de Atletas por Faixa Etária e Esporte"
      ],
      "metadata": {
        "id": "1NoHmsUghlgp"
      }
    },
    {
      "cell_type": "code",
      "source": [
        "def categorize_age(age):\n",
        "    if 20 <= age <= 30:\n",
        "        return '20-30'\n",
        "    elif 31 <= age <= 40:\n",
        "        return '31-40'\n",
        "    else:\n",
        "        return 'Other'\n",
        "\n",
        "filtered_rdd = rdd.filter(lambda row: row._c3.isdigit())\n",
        "\n",
        "consulta2_3m = filtered_rdd.map(lambda row: ((categorize_age(int(row._c3)), row._c12), 1))\n",
        "\n",
        "consulta2_3r = consulta2_3m.reduceByKey(lambda a, b: a + b)\n",
        "\n",
        "results = consulta2_3r.take(10)\n",
        "\n",
        "for (faixa_etaria, esporte), total_athletes in results:\n",
        "    print(f\"Faixa Etária: {faixa_etaria}, Esporte: {esporte}, Total Atletas: {total_athletes}\")"
      ],
      "metadata": {
        "colab": {
          "base_uri": "https://localhost:8080/"
        },
        "id": "2yjbJa7JhneP",
        "outputId": "c2a58464-a8a8-48dc-b609-074678ad4f47"
      },
      "execution_count": 24,
      "outputs": [
        {
          "output_type": "stream",
          "name": "stdout",
          "text": [
            "Faixa Etária: 20-30, Esporte: Basketball, Total Atletas: 3712\n",
            "Faixa Etária: 20-30, Esporte: Judo, Total Atletas: 3187\n",
            "Faixa Etária: 20-30, Esporte: Football, Total Atletas: 5549\n",
            "Faixa Etária: 31-40, Esporte: Tug-Of-War, Total Atletas: 42\n",
            "Faixa Etária: 20-30, Esporte: Speed Skating, Total Atletas: 4534\n",
            "Faixa Etária: 31-40, Esporte: Cross Country Skiing, Total Atletas: 1339\n",
            "Faixa Etária: Other, Esporte: Athletics, Total Atletas: 2754\n",
            "Faixa Etária: 20-30, Esporte: Ice Hockey, Total Atletas: 4377\n",
            "Faixa Etária: 20-30, Esporte: Swimming, Total Atletas: 12613\n",
            "Faixa Etária: 20-30, Esporte: Cross Country Skiing, Total Atletas: 7318\n"
          ]
        }
      ]
    },
    {
      "cell_type": "code",
      "source": [
        "output_dir = \"out/consulta2_3\"\n",
        "if os.path.exists(output_dir):\n",
        "    shutil.rmtree(output_dir)\n",
        "\n",
        "consulta2_3r.saveAsTextFile(output_dir)"
      ],
      "metadata": {
        "id": "7wzbuuEfiOnL"
      },
      "execution_count": 25,
      "outputs": []
    },
    {
      "cell_type": "markdown",
      "source": [
        "### 2.4. Proporção de Atletas Homens e Mulheres por Ano"
      ],
      "metadata": {
        "id": "doDZyt-HiUon"
      }
    },
    {
      "cell_type": "code",
      "source": [
        "consulta2_4m = rdd.map(lambda row: (row._c9, (1, 0)) if row._c2 == 'M' else (row._c9, (0, 1)))\n",
        "\n",
        "# Combine sum of (males, females) by year\n",
        "consulta2_4c = consulta2_4m.reduceByKey(lambda a, b: (a[0] + b[0], a[1] + b[1]))\n",
        "\n",
        "# Reducer:  sum of (males, females) by year and calculate the proportion\n",
        "consulta2_4r = consulta2_4c.mapValues(lambda counts: (counts[0], counts[1], counts[0] / (counts[0] + counts[1]), counts[1] / (counts[0] + counts[1])))\n",
        "\n",
        "results = consulta2_4r.take(10)\n",
        "\n",
        "for year, (males, females, male_ratio, female_ratio) in results:\n",
        "    print(f\"Ano: {year}, Homens: {males}, Mulheres: {females}, Proporção Homens: {male_ratio:.2f}, Proporção Mulheres: {female_ratio:.2f}\")"
      ],
      "metadata": {
        "colab": {
          "base_uri": "https://localhost:8080/"
        },
        "id": "2iY7ug3fiWp6",
        "outputId": "a0e80836-8f07-43f1-d725-37d43806568d"
      },
      "execution_count": 26,
      "outputs": [
        {
          "output_type": "stream",
          "name": "stdout",
          "text": [
            "Ano: 1992, Homens: 11235, Mulheres: 5178, Proporção Homens: 0.68, Proporção Mulheres: 0.32\n",
            "Ano: 2012, Homens: 7105, Mulheres: 5815, Proporção Homens: 0.55, Proporção Mulheres: 0.45\n",
            "Ano: 1920, Homens: 4158, Mulheres: 134, Proporção Homens: 0.97, Proporção Mulheres: 0.03\n",
            "Ano: 1900, Homens: 1903, Mulheres: 33, Proporção Homens: 0.98, Proporção Mulheres: 0.02\n",
            "Ano: 1988, Homens: 10453, Mulheres: 4223, Proporção Homens: 0.71, Proporção Mulheres: 0.29\n",
            "Ano: 1994, Homens: 2055, Mulheres: 1105, Proporção Homens: 0.65, Proporção Mulheres: 0.35\n",
            "Ano: 1932, Homens: 2952, Mulheres: 369, Proporção Homens: 0.89, Proporção Mulheres: 0.11\n",
            "Ano: 2002, Homens: 2527, Mulheres: 1582, Proporção Homens: 0.61, Proporção Mulheres: 0.39\n",
            "Ano: 1952, Homens: 7676, Mulheres: 1682, Proporção Homens: 0.82, Proporção Mulheres: 0.18\n",
            "Ano: 1980, Homens: 6751, Mulheres: 2186, Proporção Homens: 0.76, Proporção Mulheres: 0.24\n"
          ]
        }
      ]
    },
    {
      "cell_type": "code",
      "source": [
        "output_dir = \"out/consulta2_4\"\n",
        "if os.path.exists(output_dir):\n",
        "    shutil.rmtree(output_dir)\n",
        "\n",
        "consulta2_4r.saveAsTextFile(output_dir)"
      ],
      "metadata": {
        "id": "N6ShrE5ci3x8"
      },
      "execution_count": 27,
      "outputs": []
    },
    {
      "cell_type": "markdown",
      "source": [
        "### 3.1. Evolução da Idade Média dos Atletas por País"
      ],
      "metadata": {
        "id": "b7Rz3F1AjDV2"
      }
    },
    {
      "cell_type": "code",
      "source": [
        "filtered_rdd = rdd.filter(lambda row: row._c3.isdigit())\n",
        "\n",
        "# Mapper: Emit ((country, year), (age, 1)) for each row\n",
        "consulta3_1m = filtered_rdd.map(lambda row: ((row._c6, row._c9), (float(row._c3), 1)))\n",
        "\n",
        "# Reducer: Sum ages and counts\n",
        "consulta3_1c = consulta3_1m.reduceByKey(lambda a, b: (a[0] + b[0], a[1] + b[1]))\n",
        "\n",
        "# average age\n",
        "consulta3_1r = consulta3_1c.mapValues(lambda x: x[0] / x[1])\n",
        "\n",
        "# Mapper: Emit (country, (year, average_age)) for each entry\n",
        "consulta3_1m2 = consulta3_1r.map(lambda x: (x[0][0], (x[0][1], x[1])))\n",
        "\n",
        "results = consulta3_1m2.take(10)\n",
        "\n",
        "for country, (year, avg_age) in results:\n",
        "    print(f\"Country: {country}, Year: {year}, Average Age: {avg_age:.2f}\")"
      ],
      "metadata": {
        "colab": {
          "base_uri": "https://localhost:8080/"
        },
        "id": "iGO1s9ZumOq8",
        "outputId": "c4d694f9-b0e0-46e3-cdfc-61cb7d9d700a"
      },
      "execution_count": 28,
      "outputs": [
        {
          "output_type": "stream",
          "name": "stdout",
          "text": [
            "Country: China, Year: 1992, Average Age: 21.96\n",
            "Country: China, Year: 2012, Average Age: 23.89\n",
            "Country: Denmark, Year: 1920, Average Age: 28.83\n",
            "Country: Denmark/Sweden, Year: 1900, Average Age: 30.83\n",
            "Country: Netherlands, Year: 1988, Average Age: 24.83\n",
            "Country: Netherlands, Year: 1992, Average Age: 25.01\n",
            "Country: Netherlands, Year: 1994, Average Age: 22.67\n",
            "Country: United States, Year: 1992, Average Age: 25.47\n",
            "Country: United States, Year: 1994, Average Age: 24.98\n",
            "Country: Netherlands, Year: 1932, Average Age: 37.56\n"
          ]
        }
      ]
    },
    {
      "cell_type": "code",
      "source": [
        "output_dir = \"out/consulta3_1\"\n",
        "if os.path.exists(output_dir):\n",
        "    shutil.rmtree(output_dir)\n",
        "\n",
        "consulta3_1m2.saveAsTextFile(output_dir)"
      ],
      "metadata": {
        "id": "axYVj7TimtlR"
      },
      "execution_count": 29,
      "outputs": []
    },
    {
      "cell_type": "markdown",
      "source": [
        "### 3.2 Contagem de Medalhas por Tipo (Ouro, Prata, Bronze) por País e Ano"
      ],
      "metadata": {
        "id": "Ri4rE6jVnYoy"
      }
    },
    {
      "cell_type": "code",
      "source": [
        "medal_counts_map = rdd.filter(lambda row: row._c14.lower() in [\"gold\", \"silver\", \"bronze\"]).map(lambda row: ((row._c7, row._c9, row._c14.lower()), 1))\n",
        "\n",
        "medal_counts_reduce = medal_counts_map.reduceByKey(lambda a, b: a + b)\n",
        "\n",
        "medal_counts_by_type = medal_counts_reduce.map(lambda x: (x[0][0], x[0][1], x[0][2], x[1]))\n",
        "\n",
        "total_medals_map = medal_counts_by_type.map(lambda x: ((x[0], x[1]), (x[2], x[3])))\n",
        "\n",
        "total_medals_reduce = total_medals_map.groupByKey().mapValues(lambda medals: {\n",
        "    \"total\": sum(count for _, count in medals),\n",
        "    \"gold_percent\": sum(count for medal, count in medals if medal == \"gold\") / sum(count for _, count in medals),\n",
        "    \"silver_percent\": sum(count for medal, count in medals if medal == \"silver\") / sum(count for _, count in medals),\n",
        "    \"bronze_percent\": sum(count for medal, count in medals if medal == \"bronze\") / sum(count for _, count in medals)\n",
        "})\n",
        "\n",
        "# Formatted result\n",
        "results = total_medals_reduce.take(10)\n",
        "for (country, year), data in results:\n",
        "    print(f\"País: {country}, Ano: {year}, Total: {data['total']}, Percentual Ouro: {data['gold_percent']:.2%}, Percentual Prata: {data['silver_percent']:.2%}, Percentual Bronze: {data['bronze_percent']:.2%}\")\n"
      ],
      "metadata": {
        "colab": {
          "base_uri": "https://localhost:8080/"
        },
        "id": "enh5ceOBneKy",
        "outputId": "2a7f687e-512e-491d-e29d-f5752ec1bd75"
      },
      "execution_count": 30,
      "outputs": [
        {
          "output_type": "stream",
          "name": "stdout",
          "text": [
            "País: DEN, Ano: 1900, Total: 9, Percentual Ouro: 44.44%, Percentual Prata: 33.33%, Percentual Bronze: 22.22%\n",
            "País: FIN, Ano: 1920, Total: 52, Percentual Ouro: 40.38%, Percentual Prata: 26.92%, Percentual Bronze: 32.69%\n",
            "País: FIN, Ano: 2014, Total: 33, Percentual Ouro: 6.06%, Percentual Prata: 21.21%, Percentual Bronze: 72.73%\n",
            "País: FIN, Ano: 1948, Total: 42, Percentual Ouro: 42.86%, Percentual Prata: 33.33%, Percentual Bronze: 23.81%\n",
            "País: FIN, Ano: 1952, Total: 52, Percentual Ouro: 26.92%, Percentual Prata: 13.46%, Percentual Bronze: 59.62%\n",
            "País: NOR, Ano: 1992, Total: 47, Percentual Ouro: 23.40%, Percentual Prata: 63.83%, Percentual Bronze: 12.77%\n",
            "País: NOR, Ano: 1994, Total: 30, Percentual Ouro: 26.67%, Percentual Prata: 56.67%, Percentual Bronze: 16.67%\n",
            "País: NOR, Ano: 2002, Total: 41, Percentual Ouro: 56.10%, Percentual Prata: 26.83%, Percentual Bronze: 17.07%\n",
            "País: NOR, Ano: 2006, Total: 23, Percentual Ouro: 8.70%, Percentual Prata: 39.13%, Percentual Bronze: 52.17%\n",
            "País: NOR, Ano: 2008, Total: 22, Percentual Ouro: 72.73%, Percentual Prata: 22.73%, Percentual Bronze: 4.55%\n"
          ]
        }
      ]
    },
    {
      "cell_type": "code",
      "source": [
        "output_dir = \"out/consulta3_2\"\n",
        "if os.path.exists(output_dir):\n",
        "    shutil.rmtree(output_dir)\n",
        "\n",
        "consulta3_1m2.saveAsTextFile(output_dir)"
      ],
      "metadata": {
        "id": "ZNeK_KGMpY86"
      },
      "execution_count": 31,
      "outputs": []
    }
  ]
}