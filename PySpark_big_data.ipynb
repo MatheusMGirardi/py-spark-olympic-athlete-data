{
  "metadata": {
    "kernelspec": {
      "language": "python",
      "display_name": "Python 3",
      "name": "python3"
    },
    "language_info": {
      "name": "python",
      "version": "3.10.14",
      "mimetype": "text/x-python",
      "codemirror_mode": {
        "name": "ipython",
        "version": 3
      },
      "pygments_lexer": "ipython3",
      "nbconvert_exporter": "python",
      "file_extension": ".py"
    },
    "kaggle": {
      "accelerator": "none",
      "dataSources": [
        {
          "sourceId": 40943,
          "sourceType": "datasetVersion",
          "datasetId": 31029
        },
        {
          "sourceId": 9758098,
          "sourceType": "datasetVersion",
          "datasetId": 5975149
        }
      ],
      "dockerImageVersionId": 30786,
      "isInternetEnabled": true,
      "language": "python",
      "sourceType": "notebook",
      "isGpuEnabled": false
    },
    "colab": {
      "name": "PySpark -  big data",
      "provenance": [],
      "include_colab_link": true
    }
  },
  "nbformat_minor": 0,
  "nbformat": 4,
  "cells": [
    {
      "cell_type": "markdown",
      "metadata": {
        "id": "view-in-github",
        "colab_type": "text"
      },
      "source": [
        "<a href=\"https://colab.research.google.com/github/MatheusMGirardi/py-spark-olympic-athlete-data/blob/main/PySpark_big_data.ipynb\" target=\"_parent\"><img src=\"https://colab.research.google.com/assets/colab-badge.svg\" alt=\"Open In Colab\"/></a>"
      ]
    },
    {
      "source": [
        "# IMPORTANT: SOME KAGGLE DATA SOURCES ARE PRIVATE\n",
        "# RUN THIS CELL IN ORDER TO IMPORT YOUR KAGGLE DATA SOURCES.\n",
        "import kagglehub\n",
        "kagglehub.login()\n"
      ],
      "metadata": {
        "id": "ykJY6zAdxxVl"
      },
      "cell_type": "code",
      "outputs": [],
      "execution_count": null
    },
    {
      "source": [
        "# IMPORTANT: RUN THIS CELL IN ORDER TO IMPORT YOUR KAGGLE DATA SOURCES,\n",
        "# THEN FEEL FREE TO DELETE THIS CELL.\n",
        "# NOTE: THIS NOTEBOOK ENVIRONMENT DIFFERS FROM KAGGLE'S PYTHON\n",
        "# ENVIRONMENT SO THERE MAY BE MISSING LIBRARIES USED BY YOUR\n",
        "# NOTEBOOK.\n",
        "\n",
        "heesoo37_120_years_of_olympic_history_athletes_and_results_path = kagglehub.dataset_download('heesoo37/120-years-of-olympic-history-athletes-and-results')\n",
        "blauzo_olympic_data_no_commas_for_rdd_path = kagglehub.dataset_download('blauzo/olympic-data-no-commas-for-rdd')\n",
        "\n",
        "print('Data source import complete.')\n"
      ],
      "metadata": {
        "id": "4ZiOFBCKxxVp"
      },
      "cell_type": "code",
      "outputs": [],
      "execution_count": null
    },
    {
      "cell_type": "code",
      "source": [
        "import numpy as np # linear algebra\n",
        "import pandas as pd # data processing, CSV file I/O (e.g. pd.read_csv)\n",
        "import shutil"
      ],
      "metadata": {
        "_uuid": "8f2839f25d086af736a60e9eeb907d3b93b6e0e5",
        "_cell_guid": "b1076dfc-b9ad-4769-8c92-a6c4dae69d19",
        "execution": {
          "iopub.status.busy": "2024-10-29T23:00:22.464879Z",
          "iopub.execute_input": "2024-10-29T23:00:22.465464Z",
          "iopub.status.idle": "2024-10-29T23:00:22.473856Z",
          "shell.execute_reply.started": "2024-10-29T23:00:22.465412Z",
          "shell.execute_reply": "2024-10-29T23:00:22.471603Z"
        },
        "trusted": true,
        "id": "mxeGJVh4xxVq"
      },
      "execution_count": null,
      "outputs": []
    },
    {
      "cell_type": "code",
      "source": [
        "!pip install -q findspark\n",
        "!pip install pyspark"
      ],
      "metadata": {
        "execution": {
          "iopub.status.busy": "2024-10-29T22:49:24.081919Z",
          "iopub.execute_input": "2024-10-29T22:49:24.082796Z"
        },
        "trusted": true,
        "id": "135MjKI6xxVr",
        "outputId": "e5b76c54-768e-43a0-e5e5-00b2b8066f29"
      },
      "execution_count": null,
      "outputs": [
        {
          "name": "stdout",
          "text": "Collecting pyspark\n  Downloading pyspark-3.5.3.tar.gz (317.3 MB)\n\u001b[2K     \u001b[90m━━━━━━━━━━━━━━━━━━━━━━━━━━━━━━━━━━━━━━━\u001b[0m \u001b[32m317.3/317.3 MB\u001b[0m \u001b[31m3.8 MB/s\u001b[0m eta \u001b[36m0:00:00\u001b[0m00:01\u001b[0m00:01\u001b[0m\n\u001b[?25h  Preparing metadata (setup.py) ... \u001b[?25ldone\n\u001b[?25hRequirement already satisfied: py4j==0.10.9.7 in /opt/conda/lib/python3.10/site-packages (from pyspark) (0.10.9.7)\nBuilding wheels for collected packages: pyspark\n  Building wheel for pyspark (setup.py) ... \u001b[?25l|",
          "output_type": "stream"
        }
      ]
    },
    {
      "cell_type": "code",
      "source": [
        "import findspark\n",
        "findspark.init()\n",
        "\n",
        "from pyspark.sql import SparkSession\n",
        "\n",
        "if __name__ == \"__main__\":\n",
        "    spark = SparkSession.builder.appName(\"TDE4\").master(\"local\").getOrCreate()"
      ],
      "metadata": {
        "execution": {
          "iopub.status.busy": "2024-10-29T23:19:03.507612Z",
          "iopub.execute_input": "2024-10-29T23:19:03.508281Z",
          "iopub.status.idle": "2024-10-29T23:19:03.522878Z",
          "shell.execute_reply.started": "2024-10-29T23:19:03.508227Z",
          "shell.execute_reply": "2024-10-29T23:19:03.521051Z"
        },
        "trusted": true,
        "id": "fySG2Cu3xxVu"
      },
      "execution_count": null,
      "outputs": []
    },
    {
      "cell_type": "markdown",
      "source": [
        "#### 1. CSV loading"
      ],
      "metadata": {
        "id": "DZ5-ady3xxVv"
      }
    },
    {
      "cell_type": "code",
      "source": [
        "df = spark.read.csv(\"/kaggle/input/olympic-data-no-commas-for-rdd/athletes.csv\")\n",
        "rdd = df.rdd"
      ],
      "metadata": {
        "execution": {
          "iopub.status.busy": "2024-10-29T23:19:56.269038Z",
          "iopub.execute_input": "2024-10-29T23:19:56.269796Z",
          "iopub.status.idle": "2024-10-29T23:19:56.738953Z",
          "shell.execute_reply.started": "2024-10-29T23:19:56.269735Z",
          "shell.execute_reply": "2024-10-29T23:19:56.73723Z"
        },
        "trusted": true,
        "id": "Jj2C_SQ2xxVy"
      },
      "execution_count": null,
      "outputs": []
    },
    {
      "cell_type": "code",
      "source": [
        "for row in rdd.take(2):\n",
        "    print(row)"
      ],
      "metadata": {
        "execution": {
          "iopub.status.busy": "2024-10-29T23:19:58.079293Z",
          "iopub.execute_input": "2024-10-29T23:19:58.080925Z",
          "iopub.status.idle": "2024-10-29T23:19:58.478163Z",
          "shell.execute_reply.started": "2024-10-29T23:19:58.080856Z",
          "shell.execute_reply": "2024-10-29T23:19:58.476686Z"
        },
        "trusted": true,
        "id": "_dEUfh3oxxVz",
        "outputId": "afd876bb-bd5a-4fe5-8a0e-e580fbab4f01"
      },
      "execution_count": null,
      "outputs": [
        {
          "name": "stdout",
          "text": "Row(_c0='ID', _c1='Name', _c2='Sex', _c3='Age', _c4='Height', _c5='Weight', _c6='Team', _c7='NOC', _c8='Games', _c9='Year', _c10='Season', _c11='City', _c12='Sport', _c13='Event', _c14='Medal')\nRow(_c0='1', _c1='A Dijiang', _c2='M', _c3='24', _c4='180', _c5='80', _c6='China', _c7='CHN', _c8='1992 Summer', _c9='1992', _c10='Summer', _c11='Barcelona', _c12='Basketball', _c13=\"Basketball Men's Basketball\", _c14='NA')\n",
          "output_type": "stream"
        }
      ]
    },
    {
      "cell_type": "code",
      "source": [
        "# remove o header\n",
        "rdd = rdd.zipWithIndex().filter(lambda row_index: row_index[1] > 0).map(lambda row_index: row_index[0])"
      ],
      "metadata": {
        "execution": {
          "iopub.status.busy": "2024-10-29T23:20:10.777531Z",
          "iopub.execute_input": "2024-10-29T23:20:10.778757Z",
          "iopub.status.idle": "2024-10-29T23:20:10.789878Z",
          "shell.execute_reply.started": "2024-10-29T23:20:10.778687Z",
          "shell.execute_reply": "2024-10-29T23:20:10.788237Z"
        },
        "trusted": true,
        "id": "Ja7SPCsoxxV0"
      },
      "execution_count": null,
      "outputs": []
    },
    {
      "cell_type": "markdown",
      "source": [
        "#### 1.1 Contagem de Atletas por Ano"
      ],
      "metadata": {
        "id": "ph8byLMPxxV1"
      }
    },
    {
      "cell_type": "code",
      "source": [
        "consulta1_1m = rdd.map(lambda row: ((row._c9), 1))\n",
        "consulta1_1r = consulta1_1m.reduceByKey(lambda a,b: a + b)"
      ],
      "metadata": {
        "execution": {
          "iopub.status.busy": "2024-10-29T23:20:13.144989Z",
          "iopub.execute_input": "2024-10-29T23:20:13.145642Z",
          "iopub.status.idle": "2024-10-29T23:20:13.187687Z",
          "shell.execute_reply.started": "2024-10-29T23:20:13.145585Z",
          "shell.execute_reply": "2024-10-29T23:20:13.184474Z"
        },
        "trusted": true,
        "id": "VrVpVxWixxV1"
      },
      "execution_count": null,
      "outputs": []
    },
    {
      "cell_type": "code",
      "source": [
        "results = consulta1_1r.take(10)\n",
        "for result in results:\n",
        "    print(result)"
      ],
      "metadata": {
        "execution": {
          "iopub.status.busy": "2024-10-29T23:20:14.281372Z",
          "iopub.execute_input": "2024-10-29T23:20:14.282835Z",
          "iopub.status.idle": "2024-10-29T23:20:22.181246Z",
          "shell.execute_reply.started": "2024-10-29T23:20:14.282754Z",
          "shell.execute_reply": "2024-10-29T23:20:22.179586Z"
        },
        "trusted": true,
        "id": "Qo5q0KsIxxV1",
        "outputId": "fb8de61a-70ba-4e09-8c49-59e158dfc90b"
      },
      "execution_count": null,
      "outputs": [
        {
          "name": "stderr",
          "text": "[Stage 26:>                                                         (0 + 1) / 1]\r",
          "output_type": "stream"
        },
        {
          "name": "stdout",
          "text": "('1992', 16413)\n('2012', 12920)\n('1920', 4292)\n('1900', 1936)\n('1988', 14676)\n('1994', 3160)\n('1932', 3321)\n('2002', 4109)\n('1952', 9358)\n('1980', 8937)\n",
          "output_type": "stream"
        },
        {
          "name": "stderr",
          "text": "                                                                                \r",
          "output_type": "stream"
        }
      ]
    },
    {
      "cell_type": "code",
      "source": [
        "output_dir = \"/kaggle/working/consulta1_2\"\n",
        "if os.path.exists(output_dir):\n",
        "    shutil.rmtree(output_dir)"
      ],
      "metadata": {
        "execution": {
          "iopub.status.busy": "2024-10-29T23:20:22.18484Z",
          "iopub.execute_input": "2024-10-29T23:20:22.185658Z",
          "iopub.status.idle": "2024-10-29T23:20:22.198736Z",
          "shell.execute_reply.started": "2024-10-29T23:20:22.185581Z",
          "shell.execute_reply": "2024-10-29T23:20:22.196272Z"
        },
        "trusted": true,
        "id": "tmS_qFHoxxV2"
      },
      "execution_count": null,
      "outputs": []
    },
    {
      "cell_type": "code",
      "source": [
        "consulta1_1r.saveAsTextFile(output_dir)"
      ],
      "metadata": {
        "execution": {
          "iopub.status.busy": "2024-10-29T23:20:22.202949Z",
          "iopub.execute_input": "2024-10-29T23:20:22.205521Z",
          "iopub.status.idle": "2024-10-29T23:20:22.619944Z",
          "shell.execute_reply.started": "2024-10-29T23:20:22.205421Z",
          "shell.execute_reply": "2024-10-29T23:20:22.618148Z"
        },
        "trusted": true,
        "id": "jd2wP_EIxxV2"
      },
      "execution_count": null,
      "outputs": []
    },
    {
      "cell_type": "markdown",
      "source": [
        "### 1.2 Contagem de Atletas por esporte"
      ],
      "metadata": {
        "id": "WzwfQodJxxV2"
      }
    },
    {
      "cell_type": "code",
      "source": [
        "consulta1_2m = rdd.map(lambda row: ((row._c12), 1))\n",
        "consulta1_2r = consulta1_2m.reduceByKey(lambda a,b: a + b) #soma os val"
      ],
      "metadata": {
        "execution": {
          "iopub.status.busy": "2024-10-29T23:20:22.6278Z",
          "iopub.execute_input": "2024-10-29T23:20:22.641969Z",
          "iopub.status.idle": "2024-10-29T23:20:22.679196Z",
          "shell.execute_reply.started": "2024-10-29T23:20:22.641853Z",
          "shell.execute_reply": "2024-10-29T23:20:22.67717Z"
        },
        "trusted": true,
        "id": "cFMVlG0GxxV3"
      },
      "execution_count": null,
      "outputs": []
    },
    {
      "cell_type": "code",
      "source": [
        "results = consulta1_2r.take(10)\n",
        "for result in results:\n",
        "    print(result)"
      ],
      "metadata": {
        "execution": {
          "iopub.status.busy": "2024-10-29T23:20:22.681779Z",
          "iopub.execute_input": "2024-10-29T23:20:22.68329Z",
          "iopub.status.idle": "2024-10-29T23:20:31.000179Z",
          "shell.execute_reply.started": "2024-10-29T23:20:22.683211Z",
          "shell.execute_reply": "2024-10-29T23:20:30.998643Z"
        },
        "trusted": true,
        "id": "CtsLAX-5xxV3",
        "outputId": "fc2b76f4-0c78-45f2-d801-e8af23c6fe7f"
      },
      "execution_count": null,
      "outputs": [
        {
          "name": "stderr",
          "text": "[Stage 30:>                                                         (0 + 1) / 1]\r",
          "output_type": "stream"
        },
        {
          "name": "stdout",
          "text": "('Basketball', 4536)\n('Judo', 3801)\n('Football', 6745)\n('Tug-Of-War', 170)\n('Speed Skating', 5613)\n('Cross Country Skiing', 9133)\n('Athletics', 38624)\n('Ice Hockey', 5516)\n('Swimming', 23195)\n('Badminton', 1457)\n",
          "output_type": "stream"
        },
        {
          "name": "stderr",
          "text": "                                                                                \r",
          "output_type": "stream"
        }
      ]
    },
    {
      "cell_type": "code",
      "source": [
        "output_dir = \"/kaggle/working/consulta1_2\"\n",
        "if os.path.exists(output_dir):\n",
        "    shutil.rmtree(output_dir)"
      ],
      "metadata": {
        "execution": {
          "iopub.status.busy": "2024-10-29T23:20:31.003653Z",
          "iopub.execute_input": "2024-10-29T23:20:31.004684Z",
          "iopub.status.idle": "2024-10-29T23:20:31.013772Z",
          "shell.execute_reply.started": "2024-10-29T23:20:31.004613Z",
          "shell.execute_reply": "2024-10-29T23:20:31.01195Z"
        },
        "trusted": true,
        "id": "-GFqOcHDxxV3"
      },
      "execution_count": null,
      "outputs": []
    },
    {
      "cell_type": "code",
      "source": [
        "consulta1_r.saveAsTextFile(\"/kaggle/working/consulta1_2\")"
      ],
      "metadata": {
        "execution": {
          "iopub.status.busy": "2024-10-29T23:20:31.016706Z",
          "iopub.execute_input": "2024-10-29T23:20:31.017903Z",
          "iopub.status.idle": "2024-10-29T23:20:31.408298Z",
          "shell.execute_reply.started": "2024-10-29T23:20:31.017826Z",
          "shell.execute_reply": "2024-10-29T23:20:31.406648Z"
        },
        "trusted": true,
        "id": "jetj37ySxxV3"
      },
      "execution_count": null,
      "outputs": []
    },
    {
      "cell_type": "markdown",
      "source": [
        "### 1.3 Média de Idade dos Atletas por Gênero"
      ],
      "metadata": {
        "id": "3s4opwMhxxV3"
      }
    },
    {
      "cell_type": "code",
      "source": [
        "consulta1_3m = rdd.map(lambda row: ((row._c12), 1))\n",
        "consulta1_3r = consulta1_2m.reduceByKey(lambda a,b: a + b) #soma os val"
      ],
      "metadata": {
        "id": "9SCy20iLxxV3"
      },
      "execution_count": null,
      "outputs": []
    }
  ]
}